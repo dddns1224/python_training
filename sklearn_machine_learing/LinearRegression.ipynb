{
 "cells": [
  {
   "cell_type": "code",
   "execution_count": 4,
   "metadata": {},
   "outputs": [],
   "source": [
    "from sklearn.linear_model import LinearRegression\n",
    "import mglearn\n",
    "from sklearn.model_selection import train_test_split"
   ]
  },
  {
   "cell_type": "code",
   "execution_count": 5,
   "metadata": {},
   "outputs": [],
   "source": [
    "X,y = mglearn.datasets.make_wave(n_samples = 60)\n",
    "X_train,X_test,y_train,y_test = train_test_split(X,y,random_state = 42)"
   ]
  },
  {
   "cell_type": "code",
   "execution_count": 6,
   "metadata": {},
   "outputs": [],
   "source": [
    "lr = LinearRegression().fit(X_train,y_train)"
   ]
  },
  {
   "cell_type": "code",
   "execution_count": 8,
   "metadata": {
    "scrolled": true
   },
   "outputs": [
    {
     "name": "stdout",
     "output_type": "stream",
     "text": [
      "lf.coef_:[0.39390555]\n",
      "lr.intercept_:-0.031804343026759746\n"
     ]
    }
   ],
   "source": [
    "print('lf.coef_:{}'.format(lr.coef_))\n",
    "print('lr.intercept_:{}'.format(lr.intercept_))\n",
    "#分别输出线性拟合后的斜率和截距\n",
    "#此处的下划线是sci-kit为了将训练数据得出的值与用户设置的参数区分开"
   ]
  },
  {
   "cell_type": "code",
   "execution_count": 10,
   "metadata": {},
   "outputs": [
    {
     "name": "stdout",
     "output_type": "stream",
     "text": [
      "Training set score: 0.67\n",
      "Test set score: 0.66\n"
     ]
    }
   ],
   "source": [
    "print('Training set score: {:.2f}'.format(lr.score(X_train,y_train)))\n",
    "print('Test set score: {:.2f}'.format(lr.score(X_test,y_test)))\n",
    "#分别输出训练集和测试集的拟合精确度"
   ]
  },
  {
   "cell_type": "markdown",
   "metadata": {},
   "source": [
    "可以看出拟合精度并不好，存在欠拟合问题，因为数据集本身不够复杂"
   ]
  },
  {
   "cell_type": "code",
   "execution_count": 12,
   "metadata": {},
   "outputs": [],
   "source": [
    "X,y = mglearn.datasets.load_extended_boston()\n",
    "X_train,X_test,y_train,y_test = train_test_split(X,y,random_state = 0)\n",
    "lr = LinearRegression().fit(X_train,y_train)\n",
    "#用波士顿购房数据集进行线性拟合"
   ]
  },
  {
   "cell_type": "code",
   "execution_count": 13,
   "metadata": {},
   "outputs": [
    {
     "name": "stdout",
     "output_type": "stream",
     "text": [
      "Training set score: 0.95\n",
      "Test set score: 0.61\n"
     ]
    }
   ],
   "source": [
    "print('Training set score: {:.2f}'.format(lr.score(X_train,y_train)))\n",
    "print('Test set score: {:.2f}'.format(lr.score(X_test,y_test)))"
   ]
  },
  {
   "cell_type": "markdown",
   "metadata": {},
   "source": [
    "可以看出训练集拟合精确度很高，但测试集却很低，说明存在过拟合问题"
   ]
  },
  {
   "cell_type": "code",
   "execution_count": 14,
   "metadata": {},
   "outputs": [],
   "source": [
    "from sklearn.linear_model import Ridge\n",
    "#使用岭回归(使每个特征对输出的映像尽可能小，即斜率很小)"
   ]
  },
  {
   "cell_type": "code",
   "execution_count": 17,
   "metadata": {
    "scrolled": true
   },
   "outputs": [],
   "source": [
    "ridge = Ridge().fit(X_train,y_train)"
   ]
  },
  {
   "cell_type": "code",
   "execution_count": 18,
   "metadata": {},
   "outputs": [
    {
     "name": "stdout",
     "output_type": "stream",
     "text": [
      "Training set score: 0.89\n",
      "Test set score: 0.75\n"
     ]
    }
   ],
   "source": [
    "print('Training set score: {:.2f}'.format(ridge.score(X_train,y_train)))\n",
    "print('Test set score: {:.2f}'.format(ridge.score(X_test,y_test)))"
   ]
  },
  {
   "cell_type": "markdown",
   "metadata": {},
   "source": [
    "可以看出训练集拟合精确度变低，但在测试集上的精确度却变高"
   ]
  },
  {
   "cell_type": "code",
   "execution_count": 19,
   "metadata": {},
   "outputs": [],
   "source": [
    "ridge10 = Ridge(alpha = 10).fit(X_train,y_train)\n",
    "#设置参数alpha的值，增大会使得系数更加趋向于0，会点各地训练集的性能，但可能提高泛化性能"
   ]
  },
  {
   "cell_type": "code",
   "execution_count": 20,
   "metadata": {},
   "outputs": [
    {
     "name": "stdout",
     "output_type": "stream",
     "text": [
      "Training set score: 0.79\n",
      "Test set score: 0.64\n"
     ]
    }
   ],
   "source": [
    "print('Training set score: {:.2f}'.format(ridge10.score(X_train,y_train)))\n",
    "print('Test set score: {:.2f}'.format(ridge10.score(X_test,y_test)))"
   ]
  },
  {
   "cell_type": "code",
   "execution_count": 21,
   "metadata": {},
   "outputs": [
    {
     "name": "stdout",
     "output_type": "stream",
     "text": [
      "Training set score: 0.93\n",
      "Test set score: 0.77\n"
     ]
    }
   ],
   "source": [
    "ridge01 = Ridge(alpha = 0.1).fit(X_train,y_train)\n",
    "print('Training set score: {:.2f}'.format(ridge01.score(X_train,y_train)))\n",
    "print('Test set score: {:.2f}'.format(ridge01.score(X_test,y_test)))\n",
    "#alpha减小让系数受到的限制更小，若alpha很小，则拟合效果会越来越接近LinearRegression"
   ]
  },
  {
   "cell_type": "code",
   "execution_count": 22,
   "metadata": {},
   "outputs": [],
   "source": [
    "import matplotlib.pyplot as plt"
   ]
  },
  {
   "cell_type": "code",
   "execution_count": 41,
   "metadata": {},
   "outputs": [
    {
     "data": {
      "image/png": "[encoded data removed]",
      "text/plain": [
       "<Figure size 432x288 with 4 Axes>"
      ]
     },
     "metadata": {
      "needs_background": "light"
     },
     "output_type": "display_data"
    }
   ],
   "source": [
    "plt.subplot(1,4,1)\n",
    "plt.plot(ridge.coef_,'s',label = 'Ridge alpha = 1')\n",
    "plt.subplot(1,4,2)\n",
    "plt.plot(ridge10.coef_,'^',label = 'Ridge alpha = 10')\n",
    "plt.subplot(1,4,3)\n",
    "plt.plot(ridge01.coef_,'v',label = 'Ridge alpha = 0.1')\n",
    "plt.subplot(1,4,4)\n",
    "plt.plot(lr.coef_,'o',label = 'LinearRegression')\n",
    "plt.show()\n",
    "#观察alpha取不同值时的coef_属性情况，横坐标为各个特征的系数，纵坐标为各个系数的值"
   ]
  },
  {
   "cell_type": "code",
   "execution_count": 35,
   "metadata": {},
   "outputs": [],
   "source": [
    "from sklearn.linear_model import Lasso\n",
    "import numpy as np"
   ]
  },
  {
   "cell_type": "code",
   "execution_count": 36,
   "metadata": {},
   "outputs": [
    {
     "name": "stdout",
     "output_type": "stream",
     "text": [
      "Training set score: 0.29\n",
      "Test set score: 0.21\n",
      "Number of feature used: 4\n"
     ]
    }
   ],
   "source": [
    "lasso = Lasso().fit(X_train,y_train)\n",
    "print('Training set score: {:.2f}'.format(lasso.score(X_train,y_train)))\n",
    "print('Test set score: {:.2f}'.format(lasso.score(X_test,y_test)))\n",
    "print('Number of feature used: {}'.format(np.sum(lasso.coef_ != 0)))"
   ]
  },
  {
   "cell_type": "markdown",
   "metadata": {},
   "source": [
    "第三行输出的是特征对应系数不为零的个数，此处意为有4个特征的系数不为零，\n",
    "即仅有4个特征用于拟合，所以拟合的精确度都不太好"
   ]
  },
  {
   "cell_type": "code",
   "execution_count": 38,
   "metadata": {},
   "outputs": [
    {
     "name": "stdout",
     "output_type": "stream",
     "text": [
      "Training set score: 0.90\n",
      "Test set score: 0.77\n",
      "Number of feature used: 33\n"
     ]
    }
   ],
   "source": [
    "lasso001 = Lasso(alpha = 0.01,max_iter = 100000).fit(X_train,y_train)\n",
    "print('Training set score: {:.2f}'.format(lasso001.score(X_train,y_train)))\n",
    "print('Test set score: {:.2f}'.format(lasso001.score(X_test,y_test)))\n",
    "print('Number of feature used: {}'.format(np.sum(lasso001.coef_ != 0)))\n",
    "#与岭回归一样，通过减小alpha的值来解决欠拟合的问题，此时需要增加max_iter的值，即最大迭代次数"
   ]
  },
  {
   "cell_type": "code",
   "execution_count": 39,
   "metadata": {},
   "outputs": [
    {
     "name": "stdout",
     "output_type": "stream",
     "text": [
      "Training set score: 0.95\n",
      "Test set score: 0.64\n",
      "Number of feature used: 96\n"
     ]
    }
   ],
   "source": [
    "lasso00001 = Lasso(alpha = 0.0001,max_iter = 100000).fit(X_train,y_train)\n",
    "print('Training set score: {:.2f}'.format(lasso00001.score(X_train,y_train)))\n",
    "print('Test set score: {:.2f}'.format(lasso00001.score(X_test,y_test)))\n",
    "print('Number of feature used: {}'.format(np.sum(lasso00001.coef_ != 0)))"
   ]
  },
  {
   "cell_type": "markdown",
   "metadata": {},
   "source": [
    "若把alpha的值设置的太小，则会发生过拟合的问题"
   ]
  },
  {
   "cell_type": "code",
   "execution_count": 44,
   "metadata": {
    "scrolled": true
   },
   "outputs": [
    {
     "data": {
      "image/png": "[encoded data removed]",
      "text/plain": [
       "<Figure size 432x288 with 4 Axes>"
      ]
     },
     "metadata": {
      "needs_background": "light"
     },
     "output_type": "display_data"
    }
   ],
   "source": [
    "plt.subplot(1,4,1)\n",
    "plt.plot(lasso.coef_,'s')\n",
    "plt.subplot(1,4,2)\n",
    "plt.plot(lasso001.coef_,'^')\n",
    "plt.subplot(1,4,3)\n",
    "plt.plot(lasso00001.coef_,'v')\n",
    "plt.subplot(1,4,4)\n",
    "plt.plot(ridge01.coef_,'o')\n",
    "plt.show()"
   ]
  },
  {
   "cell_type": "raw",
   "metadata": {},
   "source": [
    "可以看出lasso001和ridge01的预测性能很相似，只是lasso001中有很多系数为零的特征值"
   ]
  },
  {
   "cell_type": "raw",
   "metadata": {},
   "source": [
    "实践中，两个模型中一般首选岭回归。但在数据集中有很多特征且只有几个是重要的，那选择Lasso更好\n",
    "同时，Lasso模型更容易理解，因为它只选择了一部分的特征"
   ]
  }
 ],
 "metadata": {
  "kernelspec": {
   "display_name": "Python 3",
   "language": "python",
   "name": "python3"
  },
  "language_info": {
   "codemirror_mode": {
    "name": "ipython",
    "version": 3
   },
   "file_extension": ".py",
   "mimetype": "text/x-python",
   "name": "python",
   "nbconvert_exporter": "python",
   "pygments_lexer": "ipython3",
   "version": "3.8.5"
  }
 },
 "nbformat": 4,
 "nbformat_minor": 4
}
