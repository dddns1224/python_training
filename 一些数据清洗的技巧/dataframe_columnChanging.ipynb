{
 "cells": [
  {
   "cell_type": "markdown",
   "metadata": {},
   "source": [
    "改变dataframe中某一列的元素值(字符串)"
   ]
  },
  {
   "cell_type": "code",
   "execution_count": null,
   "metadata": {},
   "outputs": [],
   "source": [
    "#注意定义函数的参数为Series及定义返回类型\n",
    "def change(df:pd.Series)->pd.Series:\n",
    "    df = df.str.replace('vokswagen','volkswagen')\n",
    "    df = df.str.replace('vw','volkswagen')\n",
    "    df = df.str.replace('Nissam','nissan')\n",
    "    df = df.str.replace('toyouta','toyota')\n",
    "    df = df.str.replace('maxda','mazda')\n",
    "    return df \n",
    "#该函数使用replace方法，将字符串中与第一个方法参数相同的值替换为第二个值"
   ]
  },
  {
   "cell_type": "code",
   "execution_count": null,
   "metadata": {},
   "outputs": [],
   "source": [
    "#调用函数\n",
    "df['CarName'] = change(df['CarName'])\n",
    "df['company'] = change(df['company'])"
   ]
  }
 ],
 "metadata": {
  "kernelspec": {
   "display_name": "Python 3",
   "language": "python",
   "name": "python3"
  },
  "language_info": {
   "codemirror_mode": {
    "name": "ipython",
    "version": 3
   },
   "file_extension": ".py",
   "mimetype": "text/x-python",
   "name": "python",
   "nbconvert_exporter": "python",
   "pygments_lexer": "ipython3",
   "version": "3.8.5"
  }
 },
 "nbformat": 4,
 "nbformat_minor": 4
}
