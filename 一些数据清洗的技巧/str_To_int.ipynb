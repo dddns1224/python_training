{
 "cells": [
  {
   "cell_type": "code",
   "execution_count": null,
   "metadata": {},
   "outputs": [],
   "source": [
    "change_list=['fueltype','aspiration','doornumber','carbody','drivewheel','enginelocation','enginetype','cylindernumber','fuelsystem']\n",
    "#以上是需要改变数据类型的列名称\n",
    "for i in range(len(change_list)):\n",
    "    col=change_list[i]\n",
    "    unique_list=df[col].unique()\n",
    "    #消除每列元素的重复值\n",
    "    unique_dict={v:u for u,v in enumerate(unique_list)}\n",
    "    #将每列元素的值作为索引，下标为零开始加一(0,1,...)作为值构造字典(series)\n",
    "    df[col]=df[col].map(unique_dict)\n",
    "    #将表中的元素通过上述字典进行转换(原有元素作为索引对应一个int型数值，将原元素改为该数值)"
   ]
  },
  {
   "cell_type": "code",
   "execution_count": 1,
   "metadata": {},
   "outputs": [
    {
     "name": "stdout",
     "output_type": "stream",
     "text": [
      "0  10\n",
      "1  20\n",
      "2  30\n",
      "3  40\n"
     ]
    }
   ],
   "source": [
    "#关于enumerate()函数\n",
    "for index,ele in enumerate([10,20,30,40]):\n",
    "    print(index, end='  ')\n",
    "    print(ele)"
   ]
  },
  {
   "cell_type": "code",
   "execution_count": null,
   "metadata": {},
   "outputs": [],
   "source": []
  }
 ],
 "metadata": {
  "kernelspec": {
   "display_name": "Python 3",
   "language": "python",
   "name": "python3"
  },
  "language_info": {
   "codemirror_mode": {
    "name": "ipython",
    "version": 3
   },
   "file_extension": ".py",
   "mimetype": "text/x-python",
   "name": "python",
   "nbconvert_exporter": "python",
   "pygments_lexer": "ipython3",
   "version": "3.8.5"
  }
 },
 "nbformat": 4,
 "nbformat_minor": 4
}
